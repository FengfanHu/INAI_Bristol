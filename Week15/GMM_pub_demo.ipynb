{
 "cells": [
  {
   "cell_type": "markdown",
   "id": "electric-verification",
   "metadata": {},
   "source": [
    "## Gaussian mixture models for going to the pub\n",
    "In the video lecture we saw that the Wetherspoons on Park St has visiting times on a Sunday that look as if they can be well modelled by a mixture of Gaussians. Let's look into how we model that.\n",
    "<img src=\"restaurant.png\" alt=\"drawing\" width=\"500\"/>\n"
   ]
  },
  {
   "cell_type": "code",
   "execution_count": 26,
   "id": "9aa31d9a",
   "metadata": {},
   "outputs": [
    {
     "data": {
      "text/plain": [
       "array([[-0.18762804]])"
      ]
     },
     "execution_count": 26,
     "metadata": {},
     "output_type": "execute_result"
    }
   ],
   "source": [
    "from sklearn.linear_model import LinearRegression;\n",
    "\n",
    "x = np.array([157, 160, 167, 168, 175, 180, 186, 189, 196, 200]).reshape(-1, 1);\n",
    "y = np.array([40.4, 37.9, 39.5, 39.1, 35.5, 36.9, 34.8, 33.1, 31.9, 33]).reshape(-1, 1);\n",
    "\n",
    "lr = LinearRegression().fit(x, y);\n",
    "lr.coef_"
   ]
  },
  {
   "cell_type": "code",
   "execution_count": 27,
   "id": "cce6074f",
   "metadata": {},
   "outputs": [
    {
     "data": {
      "text/plain": [
       "array([69.57026511])"
      ]
     },
     "execution_count": 27,
     "metadata": {},
     "output_type": "execute_result"
    }
   ],
   "source": [
    "lr.intercept_"
   ]
  },
  {
   "cell_type": "code",
   "execution_count": 1,
   "id": "a475cc8f",
   "metadata": {},
   "outputs": [],
   "source": [
    "import numpy as np;\n",
    "from scipy.stats import norm;"
   ]
  },
  {
   "cell_type": "code",
   "execution_count": 3,
   "id": "49396a77",
   "metadata": {},
   "outputs": [],
   "source": [
    "def entropy(p):\n",
    "    return -1*p*np.log2(p);"
   ]
  },
  {
   "cell_type": "code",
   "execution_count": 20,
   "id": "9b1e2316",
   "metadata": {},
   "outputs": [
    {
     "data": {
      "text/plain": [
       "0.954434002924965"
      ]
     },
     "execution_count": 20,
     "metadata": {},
     "output_type": "execute_result"
    }
   ],
   "source": [
    "entropy(5/8)+entropy(3/8)"
   ]
  },
  {
   "cell_type": "code",
   "execution_count": 7,
   "id": "e8505503",
   "metadata": {},
   "outputs": [
    {
     "data": {
      "text/plain": [
       "0.8112781244591328"
      ]
     },
     "execution_count": 7,
     "metadata": {},
     "output_type": "execute_result"
    }
   ],
   "source": [
    "entropy(1/4)+entropy(3/4)"
   ]
  },
  {
   "cell_type": "code",
   "execution_count": 8,
   "id": "ae94ab58",
   "metadata": {},
   "outputs": [
    {
     "data": {
      "text/plain": [
       "0.9385"
      ]
     },
     "execution_count": 8,
     "metadata": {},
     "output_type": "execute_result"
    }
   ],
   "source": [
    "0.25+0.918*(3/8)*2 # Subject"
   ]
  },
  {
   "cell_type": "code",
   "execution_count": 9,
   "id": "aa7d8980",
   "metadata": {},
   "outputs": [
    {
     "data": {
      "text/plain": [
       "0.951125"
      ]
     },
     "execution_count": 9,
     "metadata": {},
     "output_type": "execute_result"
    }
   ],
   "source": [
    "0.918*(3/8)+0.971*(5/8) # Style"
   ]
  },
  {
   "cell_type": "code",
   "execution_count": 10,
   "id": "a6663d36",
   "metadata": {},
   "outputs": [
    {
     "data": {
      "text/plain": [
       "0.74975"
      ]
     },
     "execution_count": 10,
     "metadata": {},
     "output_type": "execute_result"
    }
   ],
   "source": [
    "0+0.811*(1/2)+0.918*(3/8) # Colour"
   ]
  },
  {
   "cell_type": "code",
   "execution_count": 7,
   "id": "816e2074",
   "metadata": {},
   "outputs": [
    {
     "data": {
      "text/plain": [
       "1.0"
      ]
     },
     "execution_count": 7,
     "metadata": {},
     "output_type": "execute_result"
    }
   ],
   "source": [
    "entropy(1/2)*2"
   ]
  },
  {
   "cell_type": "code",
   "execution_count": 9,
   "id": "985844d1",
   "metadata": {},
   "outputs": [
    {
     "data": {
      "text/plain": [
       "0.3443609377704336"
      ]
     },
     "execution_count": 9,
     "metadata": {},
     "output_type": "execute_result"
    }
   ],
   "source": [
    "(entropy(2/3)+entropy(1/3))*3/8"
   ]
  },
  {
   "cell_type": "code",
   "execution_count": 2,
   "id": "fd73c3fa",
   "metadata": {},
   "outputs": [],
   "source": [
    "x1 = [2.20,2.04,1.95,1.79,1.91];\n",
    "y1 = [1.99, 2.19, 2.23, 2.22, 2.58];\n",
    "x2 = [2.31, 2.49, 2.94, 2.20, 1.97];\n",
    "y2 = [2.53, 2.20, 1.88, 2.68, 2.93];\n",
    "x3 = [1.02, 1.54, 0.82, 2.93, 0.76];\n",
    "y3 = [1.15, 0.95, 1.05, 0.97, 1.10];\n",
    "\n",
    "p1 = norm.logpdf(2.1, loc=np.mean(x1), scale=np.std(x1)) + np.log(1/3) + norm.logpdf(2.3, loc=np.mean(y1), scale=np.std(y1));\n",
    "p2 = norm.logpdf(2.1, loc=np.mean(x2), scale=np.std(x2)) + np.log(1/3) + norm.logpdf(2.3, loc=np.mean(y2), scale=np.std(y2));\n",
    "p3 = norm.logpdf(2.1, loc=np.mean(x3), scale=np.std(x3)) + np.log(1/3) + norm.logpdf(2.3, loc=np.mean(y3), scale=np.std(y3));"
   ]
  },
  {
   "cell_type": "code",
   "execution_count": 2,
   "id": "4d7d4d17",
   "metadata": {},
   "outputs": [],
   "source": [
    "x1 = [1.52,1.46,1.68,1.47,1.53,1.6];\n",
    "y1 = [1.95,1.76,2.11,2.08,1.94,1.97];\n",
    "x2 = [2.04,1.78,1.67,1.82,1.65];\n",
    "y2 = [2.24,2.69,2.66,2.43,2.9];\n",
    "x3 = [2.15,1.55,2.92,1.23];\n",
    "y3 = [1.04,1.08,0.84,0.85];"
   ]
  },
  {
   "cell_type": "code",
   "execution_count": 23,
   "id": "e002f285",
   "metadata": {},
   "outputs": [
    {
     "data": {
      "text/plain": [
       "(1.9683333333333335, 0.11334558757279535)"
      ]
     },
     "execution_count": 23,
     "metadata": {},
     "output_type": "execute_result"
    }
   ],
   "source": [
    "np.mean(y1), np.std(y1)"
   ]
  },
  {
   "cell_type": "code",
   "execution_count": 26,
   "id": "f3a39c20",
   "metadata": {},
   "outputs": [],
   "source": [
    "def gaussian(x, mu, std):\n",
    "    return np.power(np.e, (-1/2)*((x-mu)/std)**2)/(std*np.sqrt(2*np.pi));"
   ]
  },
  {
   "cell_type": "code",
   "execution_count": 28,
   "id": "d7ea23f1",
   "metadata": {},
   "outputs": [
    {
     "data": {
      "text/plain": [
       "-16.58787118328581"
      ]
     },
     "execution_count": 28,
     "metadata": {},
     "output_type": "execute_result"
    }
   ],
   "source": [
    "p11 = gaussian(2.0, np.mean(x1), np.std(x1));\n",
    "p12 = gaussian(2.1, np.mean(y1), np.std(y1));\n",
    "l1 = np.log(2/5)+np.log(p11)+np.log(p12);\n",
    "l1"
   ]
  },
  {
   "cell_type": "code",
   "execution_count": 30,
   "id": "2dbc4b16",
   "metadata": {},
   "outputs": [
    {
     "data": {
      "text/plain": [
       "-16.58787118328581"
      ]
     },
     "execution_count": 30,
     "metadata": {},
     "output_type": "execute_result"
    }
   ],
   "source": [
    "p11 = norm.pdf(2.0, loc=np.mean(x1), scale=np.std(x1));\n",
    "p12 = norm.pdf(2.1, loc=np.mean(y1), scale=np.std(y1));\n",
    "l1 = np.log(2/5)+np.log(p11)+np.log(p12);\n",
    "l1"
   ]
  },
  {
   "cell_type": "code",
   "execution_count": 11,
   "id": "ae24f929",
   "metadata": {},
   "outputs": [
    {
     "data": {
      "text/plain": [
       "-2.8587972246847793"
      ]
     },
     "execution_count": 11,
     "metadata": {},
     "output_type": "execute_result"
    }
   ],
   "source": [
    "p21 = norm.pdf(2.0, loc=np.mean(x2), scale=np.std(x2));\n",
    "p22 = norm.pdf(2.1, loc=np.mean(y2), scale=np.std(y2));\n",
    "l2 = np.log(1/3)+np.log(p21)+np.log(p22);\n",
    "l2"
   ]
  },
  {
   "cell_type": "code",
   "execution_count": 14,
   "id": "09ae5d21",
   "metadata": {},
   "outputs": [
    {
     "data": {
      "text/plain": [
       "-2.8587972246847793"
      ]
     },
     "execution_count": 14,
     "metadata": {},
     "output_type": "execute_result"
    }
   ],
   "source": [
    "p21 = norm.logpdf(2.0, loc=np.mean(x2), scale=np.std(x2));\n",
    "p22 = norm.logpdf(2.1, loc=np.mean(y2), scale=np.std(y2));\n",
    "l2 = np.log(1/3)+p21+p22\n",
    "l2"
   ]
  },
  {
   "cell_type": "code",
   "execution_count": 12,
   "id": "a14eddf3",
   "metadata": {},
   "outputs": [
    {
     "data": {
      "text/plain": [
       "-56.442947368638386"
      ]
     },
     "execution_count": 12,
     "metadata": {},
     "output_type": "execute_result"
    }
   ],
   "source": [
    "p31 = norm.pdf(2.0, loc=np.mean(x3), scale=np.std(x3));\n",
    "p32 = norm.pdf(2.1, loc=np.mean(y3), scale=np.std(y3));\n",
    "l3 = np.log(4/15)+np.log(p31)+np.log(p32);\n",
    "l3"
   ]
  },
  {
   "cell_type": "code",
   "execution_count": 15,
   "id": "9faec25e",
   "metadata": {},
   "outputs": [
    {
     "data": {
      "text/plain": [
       "-56.442947368638386"
      ]
     },
     "execution_count": 15,
     "metadata": {},
     "output_type": "execute_result"
    }
   ],
   "source": [
    "p31 = norm.logpdf(2.0, loc=np.mean(x3), scale=np.std(x3));\n",
    "p32 = norm.logpdf(2.1, loc=np.mean(y3), scale=np.std(y3));\n",
    "l3 = np.log(4/15)+p31+p32\n",
    "l3"
   ]
  },
  {
   "cell_type": "code",
   "execution_count": 1,
   "id": "increased-furniture",
   "metadata": {},
   "outputs": [
    {
     "data": {
      "image/png": "[encoded data removed]",
      "text/plain": [
       "<Figure size 720x288 with 1 Axes>"
      ]
     },
     "metadata": {
      "needs_background": "light"
     },
     "output_type": "display_data"
    }
   ],
   "source": [
    "import numpy as np\n",
    "import matplotlib.pyplot as plt\n",
    "\n",
    "from scipy.stats import norm\n",
    "from numpy.random import default_rng\n",
    "\n",
    "rng=default_rng(100)\n",
    "\n",
    "x1 = rng.normal(loc=14.5, scale=2, size=1000)\n",
    "x2 = rng.normal(loc=21, scale=1, size=500)\n",
    "x=np.hstack([x1, x2])\n",
    "fig, ax = plt.subplots(figsize=(10, 4))\n",
    "n, bins, patch = plt.hist(x, bins=20)\n",
    "\n",
    "bin_length=bins[1]-bins[0]\n",
    "sf1=bin_length*len(x1)\n",
    "sf2=bin_length*len(x2)\n",
    "\n"
   ]
  },
  {
   "cell_type": "markdown",
   "id": "practical-hollywood",
   "metadata": {},
   "source": [
    "We first make a guess at the means and the standard deviation. Let's guess that the mean of one cluster is 14 (i.e.  2 pm) and that the mean of the other cluster is 20 (i.e. 8 pm), and that the standard deviation of each is 1. Let's also say that each cluster has weight 0.5."
   ]
  },
  {
   "cell_type": "code",
   "execution_count": 2,
   "id": "willing-administrator",
   "metadata": {},
   "outputs": [
    {
     "data": {
      "image/png": "[encoded data removed]",
      "text/plain": [
       "<Figure size 720x288 with 1 Axes>"
      ]
     },
     "execution_count": 2,
     "metadata": {},
     "output_type": "execute_result"
    }
   ],
   "source": [
    "mu1=14\n",
    "mu2=20\n",
    "sigma1=sigma2=1\n",
    "w1=w2=0.5\n",
    "xs=np.linspace(9, 24, 100)\n",
    "ax.plot(xs, norm.pdf(xs, loc=mu1, scale=sigma1)*sf1, label='initial guess for cluster 1')\n",
    "ax.plot(xs, norm.pdf(xs, loc=mu2, scale=sigma2)*sf2, label='initial guess for cluster 2')\n",
    "ax.legend()\n",
    "fig"
   ]
  },
  {
   "cell_type": "markdown",
   "id": "abandoned-muscle",
   "metadata": {},
   "source": [
    "Let's consider the point midday, or 12. We can compute the membership of 12 in each cluster as follows:\n",
    "\n",
    "The membership of $x$ in cluster $j$ is $$m_j(x)=\\frac{f_j(x)w_j}{\\sum_{i=1}^k f_i(x)w_i}$$\n",
    "where $f_i(x)$ is the pdf of the normal distribution with mean = $\\mu_i$ and standard deviation = $\\sigma_i$"
   ]
  },
  {
   "cell_type": "code",
   "execution_count": 3,
   "id": "later-input",
   "metadata": {},
   "outputs": [
    {
     "name": "stdout",
     "output_type": "stream",
     "text": [
      "0.02699548325659403 2.5261355417684464e-15\n"
     ]
    }
   ],
   "source": [
    "weighted_pdf_1=w1*norm.pdf(12, loc=mu1, scale=sigma1)\n",
    "weighted_pdf_2=w2*norm.pdf(12, loc=mu2, scale=sigma2)\n",
    "print(weighted_pdf_1, weighted_pdf_2)"
   ]
  },
  {
   "cell_type": "code",
   "execution_count": 4,
   "id": "peaceful-candle",
   "metadata": {},
   "outputs": [
    {
     "name": "stdout",
     "output_type": "stream",
     "text": [
      "0.9999999999999064 9.357622968839298e-14\n"
     ]
    }
   ],
   "source": [
    "membership_1 = weighted_pdf_1/(weighted_pdf_1+weighted_pdf_2)\n",
    "membership_2 = weighted_pdf_2/(weighted_pdf_1+weighted_pdf_2)\n",
    "print(membership_1, membership_2)"
   ]
  },
  {
   "cell_type": "code",
   "execution_count": 5,
   "id": "removable-quarter",
   "metadata": {},
   "outputs": [],
   "source": [
    "def memberships(x, means=[mu1, mu2], stds=[sigma1, sigma2], ws=[w1, w2]):\n",
    "    weighted_pdf_1=ws[0]*norm.pdf(x, loc=means[0], scale=stds[0])\n",
    "    weighted_pdf_2=ws[1]*norm.pdf(x, loc=means[1], scale=stds[1])\n",
    "    membership_1 = weighted_pdf_1/(weighted_pdf_1+weighted_pdf_2)\n",
    "    membership_2 = weighted_pdf_2/(weighted_pdf_1+weighted_pdf_2)\n",
    "    return(np.vstack([membership_1, membership_2]))"
   ]
  },
  {
   "cell_type": "code",
   "execution_count": 6,
   "id": "fleet-trouble",
   "metadata": {
    "scrolled": true
   },
   "outputs": [
    {
     "data": {
      "text/plain": [
       "array([[1.00000000e+00],\n",
       "       [9.35762297e-14]])"
      ]
     },
     "execution_count": 6,
     "metadata": {},
     "output_type": "execute_result"
    }
   ],
   "source": [
    "memberships(12)"
   ]
  },
  {
   "cell_type": "code",
   "execution_count": 7,
   "id": "fallen-peripheral",
   "metadata": {
    "scrolled": true
   },
   "outputs": [
    {
     "data": {
      "text/plain": [
       "array([[9.35762297e-14],\n",
       "       [1.00000000e+00]])"
      ]
     },
     "execution_count": 7,
     "metadata": {},
     "output_type": "execute_result"
    }
   ],
   "source": [
    "memberships(22)"
   ]
  },
  {
   "cell_type": "code",
   "execution_count": 8,
   "id": "structured-switch",
   "metadata": {},
   "outputs": [
    {
     "data": {
      "text/plain": [
       "array([[0.5],\n",
       "       [0.5]])"
      ]
     },
     "execution_count": 8,
     "metadata": {},
     "output_type": "execute_result"
    }
   ],
   "source": [
    "memberships(17)"
   ]
  },
  {
   "cell_type": "code",
   "execution_count": 10,
   "id": "7556dd59",
   "metadata": {},
   "outputs": [
    {
     "data": {
      "text/plain": [
       "array([7.68245324e-02, 2.22770946e-01, 4.76316055e-02, ...,\n",
       "       6.83594266e-11, 6.37228702e-07, 5.46923869e-10])"
      ]
     },
     "execution_count": 10,
     "metadata": {},
     "output_type": "execute_result"
    }
   ],
   "source": [
    "norm.pdf(x, loc=mu1, scale=sigma1)"
   ]
  },
  {
   "cell_type": "code",
   "execution_count": 11,
   "id": "threatened-proposal",
   "metadata": {},
   "outputs": [],
   "source": [
    "ms = memberships(x)"
   ]
  },
  {
   "cell_type": "code",
   "execution_count": 12,
   "id": "0f8d031b",
   "metadata": {},
   "outputs": [
    {
     "data": {
      "text/plain": [
       "(2, 1500)"
      ]
     },
     "execution_count": 12,
     "metadata": {},
     "output_type": "execute_result"
    }
   ],
   "source": [
    "ms.shape"
   ]
  },
  {
   "cell_type": "code",
   "execution_count": 14,
   "id": "34c678f3",
   "metadata": {},
   "outputs": [
    {
     "data": {
      "text/plain": [
       "array([878.21389991, 621.78610009])"
      ]
     },
     "execution_count": 14,
     "metadata": {},
     "output_type": "execute_result"
    }
   ],
   "source": [
    "np.sum(ms, axis=1)"
   ]
  },
  {
   "cell_type": "markdown",
   "id": "dated-enhancement",
   "metadata": {},
   "source": [
    "Based on these memberships, we will now calculate the new means. The new means will be a weighted sum of the points in the dataset, where the weighting  is based on the memberships we have just calculated.\n",
    "$${\\mu}_{j}^\\prime= \\frac{\\sum_{x} m_j(x)x }{\\sum_{x} m_j(x)  }$$\n",
    "Compare with k-means: in k-means, memberships are just 1 or 0, and we calculate the new means by taking the average of all the points that have membership 1 in a cluster."
   ]
  },
  {
   "cell_type": "code",
   "execution_count": 15,
   "id": "overhead-cross",
   "metadata": {},
   "outputs": [],
   "source": [
    "def calc_means(x, ms):\n",
    "    denoms = np.sum(ms, axis=1)\n",
    "    numtrs = np.sum(ms*x, axis=1)\n",
    "    return numtrs/denoms"
   ]
  },
  {
   "cell_type": "code",
   "execution_count": 16,
   "id": "representative-lease",
   "metadata": {},
   "outputs": [
    {
     "name": "stdout",
     "output_type": "stream",
     "text": [
      "[14.12996613 20.40239905]\n"
     ]
    }
   ],
   "source": [
    "new_means= calc_means(x, ms)\n",
    "print(new_means)"
   ]
  },
  {
   "cell_type": "markdown",
   "id": "adverse-parts",
   "metadata": {},
   "source": [
    "We now calculate the new standard deviations based on the memberships and the new means.\n",
    "\n",
    "$${\\sigma_j^\\prime}^2=\\frac{\\sum_{x} m_j(x)(x-{\\mu}_j^\\prime)^2}{\\sum_{x} m_j(x)}$$"
   ]
  },
  {
   "cell_type": "code",
   "execution_count": 17,
   "id": "abstract-angel",
   "metadata": {},
   "outputs": [],
   "source": [
    "def calc_stds(x, mus, ms):\n",
    "    denoms = np.sum(ms, axis=1)\n",
    "    numtrs = np.sum(ms*((x - mus.reshape(-1,1))**2), axis=1)\n",
    "    return np.sqrt(numtrs/denoms)"
   ]
  },
  {
   "cell_type": "code",
   "execution_count": 18,
   "id": "phantom-sherman",
   "metadata": {},
   "outputs": [
    {
     "name": "stdout",
     "output_type": "stream",
     "text": [
      "[1.67038545 1.56056397]\n"
     ]
    }
   ],
   "source": [
    "new_stds = calc_stds(x, new_means, ms)\n",
    "print(new_stds)"
   ]
  },
  {
   "cell_type": "markdown",
   "id": "opposed-amazon",
   "metadata": {},
   "source": [
    "Finally, we calculate the new weights for each cluster\n",
    "$$w_j^\\prime=\\frac{ \\sum_{x} m_j(x) }{N}$$\n",
    "where $N$ is the total number of points (in our case 1500)"
   ]
  },
  {
   "cell_type": "code",
   "execution_count": 19,
   "id": "front-renewal",
   "metadata": {},
   "outputs": [],
   "source": [
    "def calc_ws(ms):\n",
    "    return np.sum(ms, axis=1)/ms.shape[1]"
   ]
  },
  {
   "cell_type": "code",
   "execution_count": 22,
   "id": "auburn-block",
   "metadata": {},
   "outputs": [
    {
     "data": {
      "text/plain": [
       "array([0.58547593, 0.41452407])"
      ]
     },
     "execution_count": 22,
     "metadata": {},
     "output_type": "execute_result"
    }
   ],
   "source": [
    "calc_ws(ms)"
   ]
  },
  {
   "cell_type": "markdown",
   "id": "adjusted-survival",
   "metadata": {},
   "source": [
    "Let's plot our updated curves:"
   ]
  },
  {
   "cell_type": "code",
   "execution_count": 23,
   "id": "polish-potential",
   "metadata": {},
   "outputs": [
    {
     "data": {
      "image/png": "[encoded data removed]",
      "text/plain": [
       "<Figure size 720x288 with 1 Axes>"
      ]
     },
     "execution_count": 23,
     "metadata": {},
     "output_type": "execute_result"
    }
   ],
   "source": [
    "ax.plot(xs, norm.pdf(xs, loc=new_means[0], scale=new_stds[0])*sf1, label='updated guess for cluster 1')\n",
    "ax.plot(xs, norm.pdf(xs, loc=new_means[1], scale=new_stds[1])*sf2, label='updated guess for cluster 2')\n",
    "ax.legend()\n",
    "fig"
   ]
  },
  {
   "cell_type": "markdown",
   "id": "respiratory-mainstream",
   "metadata": {},
   "source": [
    "Now, we want to continue running all these steps until we see no more changes"
   ]
  },
  {
   "cell_type": "code",
   "execution_count": 24,
   "id": "choice-allen",
   "metadata": {},
   "outputs": [],
   "source": [
    "mus=np.array([mu1, mu2])\n",
    "sigmas=np.array([sigma1, sigma2])\n",
    "ws=np.array([w1, w2])\n",
    "convergence = False\n",
    "while not convergence:\n",
    "    ms = memberships(x, mus, sigmas, ws)\n",
    "    new_mus = calc_means(x, ms)\n",
    "    new_sigmas = calc_stds(x, new_mus, ms)\n",
    "    new_ws = calc_ws(ms)\n",
    "    convergence = np.allclose(mus, new_mus) and np.allclose(sigmas, new_sigmas) and np.allclose(ws, new_ws)\n",
    "    mus = new_mus\n",
    "    sigmas = new_sigmas\n",
    "    ws = new_ws"
   ]
  },
  {
   "cell_type": "code",
   "execution_count": 25,
   "id": "double-lunch",
   "metadata": {},
   "outputs": [
    {
     "data": {
      "text/plain": [
       "array([14.57559948, 21.00477774])"
      ]
     },
     "execution_count": 25,
     "metadata": {},
     "output_type": "execute_result"
    }
   ],
   "source": [
    "mus"
   ]
  },
  {
   "cell_type": "code",
   "execution_count": 26,
   "id": "equipped-portfolio",
   "metadata": {},
   "outputs": [
    {
     "data": {
      "text/plain": [
       "array([2.00430176, 0.96305524])"
      ]
     },
     "execution_count": 26,
     "metadata": {},
     "output_type": "execute_result"
    }
   ],
   "source": [
    "sigmas"
   ]
  },
  {
   "cell_type": "code",
   "execution_count": 27,
   "id": "following-louis",
   "metadata": {},
   "outputs": [
    {
     "data": {
      "text/plain": [
       "array([0.66489636, 0.33510364])"
      ]
     },
     "execution_count": 27,
     "metadata": {},
     "output_type": "execute_result"
    }
   ],
   "source": [
    "ws"
   ]
  },
  {
   "cell_type": "code",
   "execution_count": 28,
   "id": "southwest-laser",
   "metadata": {},
   "outputs": [
    {
     "data": {
      "image/png": "[encoded data removed]",
      "text/plain": [
       "<Figure size 720x288 with 1 Axes>"
      ]
     },
     "execution_count": 28,
     "metadata": {},
     "output_type": "execute_result"
    }
   ],
   "source": [
    "ax.plot(xs, norm.pdf(xs, loc=mus[0], scale=sigmas[0])*sf1, label='final guess for cluster 1')\n",
    "ax.plot(xs, norm.pdf(xs, loc=mus[1], scale=sigmas[1])*sf2, label='final guess for cluster 2')\n",
    "ax.legend()\n",
    "fig"
   ]
  },
  {
   "cell_type": "code",
   "execution_count": 29,
   "id": "fatty-tracker",
   "metadata": {},
   "outputs": [
    {
     "data": {
      "text/plain": [
       "array([[9.99616915e-01],\n",
       "       [3.83085160e-04]])"
      ]
     },
     "execution_count": 29,
     "metadata": {},
     "output_type": "execute_result"
    }
   ],
   "source": [
    "memberships(17, mus, sigmas, ws)"
   ]
  }
 ],
 "metadata": {
  "interpreter": {
   "hash": "aee8b7b246df8f9039afb4144a1f6fd8d2ca17a180786b69acc140d282b71a49"
  },
  "kernelspec": {
   "display_name": "Python 3.8.5 64-bit",
   "language": "python",
   "name": "python3"
  },
  "language_info": {
   "codemirror_mode": {
    "name": "ipython",
    "version": 3
   },
   "file_extension": ".py",
   "mimetype": "text/x-python",
   "name": "python",
   "nbconvert_exporter": "python",
   "pygments_lexer": "ipython3",
   "version": "3.8.5"
  }
 },
 "nbformat": 4,
 "nbformat_minor": 5
}
