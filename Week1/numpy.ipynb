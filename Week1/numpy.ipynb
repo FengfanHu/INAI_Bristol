{
 "cells": [
  {
   "cell_type": "code",
   "execution_count": 2,
   "metadata": {},
   "outputs": [],
   "source": [
    "import numpy as np;"
   ]
  },
  {
   "cell_type": "code",
   "execution_count": 3,
   "metadata": {},
   "outputs": [
    {
     "data": {
      "text/plain": [
       "(1, (3,))"
      ]
     },
     "execution_count": 3,
     "metadata": {},
     "output_type": "execute_result"
    }
   ],
   "source": [
    "x = np.array([1,2,3]) # Vector\n",
    "x.ndim, x.shape"
   ]
  },
  {
   "cell_type": "code",
   "execution_count": 5,
   "metadata": {},
   "outputs": [
    {
     "data": {
      "text/plain": [
       "(2, (3, 1))"
      ]
     },
     "execution_count": 5,
     "metadata": {},
     "output_type": "execute_result"
    }
   ],
   "source": [
    "y = np.array([[1], [2], [3]]) # 3 by 1\n",
    "y.ndim, y.shape"
   ]
  },
  {
   "cell_type": "code",
   "execution_count": 7,
   "metadata": {},
   "outputs": [
    {
     "data": {
      "text/plain": [
       "(2, (3, 3))"
      ]
     },
     "execution_count": 7,
     "metadata": {},
     "output_type": "execute_result"
    }
   ],
   "source": [
    "A = np.array([[1,1,1], [2,2,2], [3,3,3]]) # 3 by 3\n",
    "A.ndim, A.shape"
   ]
  },
  {
   "cell_type": "code",
   "execution_count": 8,
   "metadata": {},
   "outputs": [
    {
     "name": "stdout",
     "output_type": "stream",
     "text": [
      "[ 0  1  2  3  4  5  6  7  8  9 10 11 12 13 14 15 16 17 18 19 20 21 22 23\n",
      " 24 25 26 27 28 29 30 31 32 33 34 35 36 37 38 39 40 41 42 43 44 45 46 47\n",
      " 48 49 50 51 52 53 54 55 56 57 58 59 60 61 62 63 64 65 66 67 68 69 70 71\n",
      " 72 73 74 75 76 77 78 79 80 81 82 83 84 85 86 87 88 89 90 91 92 93 94 95\n",
      " 96 97 98 99]\n",
      "[0.         0.11111111 0.22222222 0.33333333 0.44444444 0.55555556\n",
      " 0.66666667 0.77777778 0.88888889 1.        ]\n",
      "[[1. 1. 1. 1.]\n",
      " [1. 1. 1. 1.]\n",
      " [1. 1. 1. 1.]\n",
      " [1. 1. 1. 1.]]\n",
      "[[1. 0. 0. 0.]\n",
      " [0. 1. 0. 0.]\n",
      " [0. 0. 1. 0.]\n",
      " [0. 0. 0. 1.]]\n",
      "[[1 0 0 0]\n",
      " [0 2 0 0]\n",
      " [0 0 3 0]\n",
      " [0 0 0 4]]\n",
      "[0.92561664 0.95277815 0.03087528 0.8867523 ]\n"
     ]
    }
   ],
   "source": [
    "a = np.arange(100) # 0 to n-1\n",
    "print(a)\n",
    "b = np.linspace(0, 1, 10)   # start, end, num-points\n",
    "print(b)\n",
    "c = np.ones((4, 4))  #(4, 4) is a tuple\n",
    "print(c)\n",
    "d = np.eye(4)\n",
    "print(d)\n",
    "e = np.diag(np.array([1, 2, 3, 4]))\n",
    "print(e)\n",
    "d = np.random.rand(4) # uniform in [0, 1]\n",
    "print(d)\n",
    "e = np.random.randn(4) # draw from Gaussian"
   ]
  },
  {
   "cell_type": "code",
   "execution_count": 9,
   "metadata": {},
   "outputs": [
    {
     "name": "stdout",
     "output_type": "stream",
     "text": [
      "[[0]\n",
      " [1]\n",
      " [2]]\n",
      "[[1]\n",
      " [2]\n",
      " [3]]\n",
      "[[1]\n",
      " [1]\n",
      " [1]]\n",
      "[[0 1 2]]\n",
      "[[1 2 4]]\n",
      "[[0 1 2]\n",
      " [3 4 5]\n",
      " [6 7 8]]\n"
     ]
    }
   ],
   "source": [
    "x = np.arange(3).reshape(3,1)\n",
    "print(x)\n",
    "xp1 = x + 1\n",
    "print(xp1)\n",
    "print(xp1 - x)\n",
    "y = np.arange(3).reshape(1,3)\n",
    "print(y)\n",
    "print(2**y)\n",
    "A = np.arange(9).reshape(3,3)\n",
    "print(A)"
   ]
  },
  {
   "cell_type": "code",
   "execution_count": 10,
   "metadata": {},
   "outputs": [
    {
     "name": "stdout",
     "output_type": "stream",
     "text": [
      "[[ 0  1  4]\n",
      " [ 9 16 25]\n",
      " [36 49 64]]\n",
      "[[ 15  18  21]\n",
      " [ 42  54  66]\n",
      " [ 69  90 111]]\n",
      "[[ 5]\n",
      " [14]\n",
      " [23]]\n",
      "[[ 5]\n",
      " [14]\n",
      " [23]]\n"
     ]
    }
   ],
   "source": [
    "print(A * A) # compare with the next..\n",
    "print(A.dot(A))\n",
    "print(A.dot(x)) # scalar product\n",
    "print(A.dot(y.T)) # scalar product with transpose of y"
   ]
  },
  {
   "cell_type": "code",
   "execution_count": 13,
   "metadata": {},
   "outputs": [
    {
     "name": "stdout",
     "output_type": "stream",
     "text": [
      "4950\n",
      "0\n",
      "99\n",
      "49.5\n",
      "[[1 1]\n",
      " [2 2]\n",
      " [3 3]]\n",
      "2 (3, 2)\n",
      "[6 6]\n",
      "[2 4 6]\n"
     ]
    }
   ],
   "source": [
    "a = np.arange(100) # 0 to n-1\n",
    "print(np.sum(a))\n",
    "print(np.min(a))\n",
    "print(np.max(a))\n",
    "print(np.mean(a))\n",
    "# axis lets you control columns vs rows\n",
    "a = np.array([[1,1], [2,2,], [3,3]])\n",
    "print(a)\n",
    "print(a.ndim, a.shape)\n",
    "print(a.sum(axis=0))\n",
    "print(a.sum(axis=1))"
   ]
  },
  {
   "cell_type": "code",
   "execution_count": 14,
   "metadata": {},
   "outputs": [
    {
     "name": "stdout",
     "output_type": "stream",
     "text": [
      "[0 1 2]\n",
      "0\n",
      "[3 4 5]\n",
      "5\n",
      "[6 7 8]\n",
      "[6 7 8]\n",
      "[3 4 5]\n",
      "6\n"
     ]
    }
   ],
   "source": [
    "A = np.arange(9).reshape(3,3)\n",
    "print(A[0])\n",
    "print(A[0][0])\n",
    "print(A[1])\n",
    "print(A[1][2])\n",
    "print(A[2])\n",
    "print(A[-1])\n",
    "print(A[-2])\n",
    "print(A[2, 0]) # third row, first column"
   ]
  },
  {
   "cell_type": "code",
   "execution_count": 15,
   "metadata": {},
   "outputs": [
    {
     "data": {
      "text/html": [
       "<div>\n",
       "<style scoped>\n",
       "    .dataframe tbody tr th:only-of-type {\n",
       "        vertical-align: middle;\n",
       "    }\n",
       "\n",
       "    .dataframe tbody tr th {\n",
       "        vertical-align: top;\n",
       "    }\n",
       "\n",
       "    .dataframe thead th {\n",
       "        text-align: right;\n",
       "    }\n",
       "</style>\n",
       "<table border=\"1\" class=\"dataframe\">\n",
       "  <thead>\n",
       "    <tr style=\"text-align: right;\">\n",
       "      <th></th>\n",
       "      <th>Book Title</th>\n",
       "      <th>Book Classification</th>\n",
       "      <th>Author Name</th>\n",
       "      <th>Sales</th>\n",
       "    </tr>\n",
       "  </thead>\n",
       "  <tbody>\n",
       "    <tr>\n",
       "      <th>0</th>\n",
       "      <td>Harry Potter and The Philosophers Stone</td>\n",
       "      <td>Fiction</td>\n",
       "      <td>JK Rowling</td>\n",
       "      <td>120000000</td>\n",
       "    </tr>\n",
       "    <tr>\n",
       "      <th>1</th>\n",
       "      <td>Artificial Intelligence: A Modern Approach</td>\n",
       "      <td>Non-Fiction</td>\n",
       "      <td>Russel and Norvig</td>\n",
       "      <td>10000</td>\n",
       "    </tr>\n",
       "  </tbody>\n",
       "</table>\n",
       "</div>"
      ],
      "text/plain": [
       "                                   Book Title Book Classification  \\\n",
       "0     Harry Potter and The Philosophers Stone             Fiction   \n",
       "1  Artificial Intelligence: A Modern Approach         Non-Fiction   \n",
       "\n",
       "         Author Name      Sales  \n",
       "0         JK Rowling  120000000  \n",
       "1  Russel and Norvig      10000  "
      ]
     },
     "execution_count": 15,
     "metadata": {},
     "output_type": "execute_result"
    }
   ],
   "source": [
    "import pandas as pd\n",
    "books = pd.Series(['Harry Potter and The Philosophers Stone',\n",
    " 'Artificial Intelligence: A Modern Approach',])\n",
    "book_class = pd.Series(['Fiction', 'Non-Fiction'])\n",
    "authors = pd.Series(['JK Rowling', 'Russel and Norvig'])\n",
    "# note these numbers may have been made up\n",
    "sold = pd.Series([120000000, 10000])\n",
    "book_frame = pd.DataFrame({'Book Title': books, 'Book Classification': book_class,\n",
    "'Author Name': authors, 'Sales': sold})\n",
    "book_frame # the output of the last expression in a cell is displayed"
   ]
  },
  {
   "cell_type": "code",
   "execution_count": 18,
   "metadata": {},
   "outputs": [
    {
     "name": "stdout",
     "output_type": "stream",
     "text": [
      "    0      1       2  3  4   5   6     7  8  9   10 11 12     13   14 15\n",
      "0    b  30.83   0.000  u  g   w   v  1.25  t  t   1  f  g  00202    0  +\n",
      "1    a  58.67   4.460  u  g   q   h  3.04  t  t   6  f  g  00043  560  +\n",
      "2    a  24.50   0.500  u  g   q   h  1.50  t  f   0  f  g  00280  824  +\n",
      "3    b  27.83   1.540  u  g   w   v  3.75  t  t   5  t  g  00100    3  +\n",
      "4    b  20.17   5.625  u  g   w   v  1.71  t  f   0  f  s  00120    0  +\n",
      "..  ..    ...     ... .. ..  ..  ..   ... .. ..  .. .. ..    ...  ... ..\n",
      "685  b  21.08  10.085  y  p   e   h  1.25  f  f   0  f  g  00260    0  -\n",
      "686  a  22.67   0.750  u  g   c   v  2.00  f  t   2  t  g  00200  394  -\n",
      "687  a  25.25  13.500  y  p  ff  ff  2.00  f  t   1  t  g  00200    1  -\n",
      "688  b  17.92   0.205  u  g  aa   v  0.04  f  f   0  f  g  00280  750  -\n",
      "689  b  35.00   3.375  u  g   c   h  8.29  f  f   0  t  g  00000    0  -\n",
      "\n",
      "[690 rows x 16 columns]\n",
      "  0      1      2  3  4  5  6     7  8  9   10 11 12     13   14 15\n",
      "0  b  30.83  0.000  u  g  w  v  1.25  t  t   1  f  g  00202    0  +\n",
      "1  a  58.67  4.460  u  g  q  h  3.04  t  t   6  f  g  00043  560  +\n",
      "2  a  24.50  0.500  u  g  q  h  1.50  t  f   0  f  g  00280  824  +\n",
      "3  b  27.83  1.540  u  g  w  v  3.75  t  t   5  t  g  00100    3  +\n",
      "4  b  20.17  5.625  u  g  w  v  1.71  t  f   0  f  s  00120    0  +\n",
      "    0      1       2  3  4   5   6     7  8  9   10 11 12     13   14 15\n",
      "685  b  21.08  10.085  y  p   e   h  1.25  f  f   0  f  g  00260    0  -\n",
      "686  a  22.67   0.750  u  g   c   v  2.00  f  t   2  t  g  00200  394  -\n",
      "687  a  25.25  13.500  y  p  ff  ff  2.00  f  t   1  t  g  00200    1  -\n",
      "688  b  17.92   0.205  u  g  aa   v  0.04  f  f   0  f  g  00280  750  -\n",
      "689  b  35.00   3.375  u  g   c   h  8.29  f  f   0  t  g  00000    0  -\n"
     ]
    }
   ],
   "source": [
    "# don't worry about the .data extension, it's really just a CSV file.\n",
    "# this won't work, unless we have the crx.data file in this directory.\n",
    "# df = pd.read_csv('crx.data', sep=',', header=None)\n",
    "\n",
    "# the following does the same as above, but instead loading it over the Internet\n",
    "df = pd.read_csv('http://archive.ics.uci.edu/ml/machine-learning-databases/credit-screening/crx.data', sep=',', header=None)\n",
    "# print a summary of the dataframe we loaded.\n",
    "print(df)\n",
    "# print the first few rows of the dataframe\n",
    "print(df.head())\n",
    "# print the last few rows of the dataframe\n",
    "print(df.tail())"
   ]
  },
  {
   "cell_type": "code",
   "execution_count": 19,
   "metadata": {},
   "outputs": [
    {
     "name": "stdout",
     "output_type": "stream",
     "text": [
      "0       Harry Potter and The Philosophers Stone\n",
      "1    Artificial Intelligence: A Modern Approach\n",
      "Name: Book Title, dtype: object\n",
      "Artificial Intelligence: A Modern Approach\n",
      "0       Harry Potter and The Philosophers Stone\n",
      "1    Artificial Intelligence: A Modern Approach\n",
      "Name: Book Title, dtype: object\n"
     ]
    }
   ],
   "source": [
    "print(book_frame['Book Title'])\n",
    "print(book_frame['Book Title'][1])\n",
    "print(book_frame['Book Title'][0:2])"
   ]
  },
  {
   "cell_type": "code",
   "execution_count": 20,
   "metadata": {},
   "outputs": [
    {
     "name": "stdout",
     "output_type": "stream",
     "text": [
      "Book Title             Harry Potter and The Philosophers Stone\n",
      "Book Classification                                    Fiction\n",
      "Author Name                                         JK Rowling\n",
      "Sales                                                120000000\n",
      "Name: 0, dtype: object\n",
      "Artificial Intelligence: A Modern Approach\n",
      "                                Book Title Book Classification Author Name  \\\n",
      "0  Harry Potter and The Philosophers Stone             Fiction  JK Rowling   \n",
      "\n",
      "       Sales  \n",
      "0  120000000  \n"
     ]
    }
   ],
   "source": [
    "print(book_frame.iloc[0])\n",
    "print(book_frame.iloc[1]['Book Title'])\n",
    "print(book_frame.iloc[0:1])"
   ]
  },
  {
   "cell_type": "code",
   "execution_count": 27,
   "metadata": {},
   "outputs": [
    {
     "name": "stdout",
     "output_type": "stream",
     "text": [
      "                                   Book Title Book Classification  \\\n",
      "0     Harry Potter and The Philosophers Stone             Fiction   \n",
      "1  Artificial Intelligence: A Modern Approach         Non-Fiction   \n",
      "\n",
      "         Author Name       Sales  \n",
      "0         JK Rowling  1200000000  \n",
      "1  Russel and Norvig      100000  \n",
      "0    20.905587\n",
      "1    11.512925\n",
      "Name: Sales, dtype: float64\n",
      "                                   Book Title Book Classification  \\\n",
      "0     Harry Potter and The Philosophers Stone             Fiction   \n",
      "1  Artificial Intelligence: A Modern Approach         Non-Fiction   \n",
      "\n",
      "         Author Name       Sales  Log_Sales  \n",
      "0         JK Rowling  1200000000  20.905587  \n",
      "1  Russel and Norvig      100000  11.512925  \n"
     ]
    }
   ],
   "source": [
    "# Oops, maybe we underestimated the sales of books by a factor of 10\n",
    "book_frame['Sales'] = book_frame['Sales'] * 10\n",
    "print(book_frame)\n",
    "import numpy as np\n",
    "log_sales = np.log(book_frame['Sales'])\n",
    "print(log_sales)\n",
    "book_frame['Log_Sales'] = log_sales\n",
    "print(book_frame)"
   ]
  },
  {
   "cell_type": "code",
   "execution_count": 32,
   "metadata": {},
   "outputs": [
    {
     "data": {
      "text/html": [
       "<div>\n",
       "<style scoped>\n",
       "    .dataframe tbody tr th:only-of-type {\n",
       "        vertical-align: middle;\n",
       "    }\n",
       "\n",
       "    .dataframe tbody tr th {\n",
       "        vertical-align: top;\n",
       "    }\n",
       "\n",
       "    .dataframe thead th {\n",
       "        text-align: right;\n",
       "    }\n",
       "</style>\n",
       "<table border=\"1\" class=\"dataframe\">\n",
       "  <thead>\n",
       "    <tr style=\"text-align: right;\">\n",
       "      <th></th>\n",
       "      <th>Book Title</th>\n",
       "      <th>Book Classification</th>\n",
       "    </tr>\n",
       "  </thead>\n",
       "  <tbody>\n",
       "    <tr>\n",
       "      <th>0</th>\n",
       "      <td>Harry Potter and The Philosophers Stone</td>\n",
       "      <td>Fiction</td>\n",
       "    </tr>\n",
       "    <tr>\n",
       "      <th>1</th>\n",
       "      <td>Artificial Intelligence: A Modern Approach</td>\n",
       "      <td>Non-Fiction</td>\n",
       "    </tr>\n",
       "  </tbody>\n",
       "</table>\n",
       "</div>"
      ],
      "text/plain": [
       "                                   Book Title Book Classification\n",
       "0     Harry Potter and The Philosophers Stone             Fiction\n",
       "1  Artificial Intelligence: A Modern Approach         Non-Fiction"
      ]
     },
     "execution_count": 32,
     "metadata": {},
     "output_type": "execute_result"
    }
   ],
   "source": [
    "book_frame.iloc[:,:2]"
   ]
  },
  {
   "cell_type": "code",
   "execution_count": null,
   "metadata": {},
   "outputs": [],
   "source": []
  }
 ],
 "metadata": {
  "interpreter": {
   "hash": "aee8b7b246df8f9039afb4144a1f6fd8d2ca17a180786b69acc140d282b71a49"
  },
  "kernelspec": {
   "display_name": "Python 3.8.5 64-bit",
   "language": "python",
   "name": "python3"
  },
  "language_info": {
   "codemirror_mode": {
    "name": "ipython",
    "version": 3
   },
   "file_extension": ".py",
   "mimetype": "text/x-python",
   "name": "python",
   "nbconvert_exporter": "python",
   "pygments_lexer": "ipython3",
   "version": "3.8.5"
  },
  "orig_nbformat": 4
 },
 "nbformat": 4,
 "nbformat_minor": 2
}
